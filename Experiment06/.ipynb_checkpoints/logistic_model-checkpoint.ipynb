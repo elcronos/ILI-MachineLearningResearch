{
 "cells": [
  {
   "cell_type": "code",
   "execution_count": 67,
   "metadata": {
    "collapsed": false
   },
   "outputs": [],
   "source": [
    "import numpy as np\n",
    "import pandas as pd\n",
    "from patsy import dmatrices\n",
    "import matplotlib.pyplot as plt\n",
    "from sklearn.linear_model import LogisticRegression\n",
    "from sklearn.cross_validation import train_test_split\n",
    "from sklearn.model_selection import cross_val_score\n",
    "from sklearn import metrics"
   ]
  },
  {
   "cell_type": "code",
   "execution_count": 54,
   "metadata": {
    "collapsed": true
   },
   "outputs": [],
   "source": [
    "# Load dataset\n",
    "related =  pd.read_csv(\"./data_vectorised/related.csv\")\n",
    "infection =  pd.read_csv(\"./data_vectorised/infection.csv\")\n",
    "self =  pd.read_csv(\"./data_vectorised/self.csv\")"
   ]
  },
  {
   "cell_type": "markdown",
   "metadata": {},
   "source": [
    "## Data Exploration"
   ]
  },
  {
   "cell_type": "code",
   "execution_count": 27,
   "metadata": {
    "collapsed": false
   },
   "outputs": [],
   "source": []
  },
  {
   "cell_type": "markdown",
   "metadata": {},
   "source": [
    "## Logistic Regression"
   ]
  },
  {
   "cell_type": "code",
   "execution_count": 55,
   "metadata": {
    "collapsed": false
   },
   "outputs": [
    {
     "data": {
      "text/html": [
       "<div>\n",
       "<table border=\"1\" class=\"dataframe\">\n",
       "  <thead>\n",
       "    <tr style=\"text-align: right;\">\n",
       "      <th></th>\n",
       "      <th>index</th>\n",
       "      <th>flu</th>\n",
       "      <th>gett</th>\n",
       "      <th>think</th>\n",
       "      <th>sick</th>\n",
       "      <th>feel</th>\n",
       "      <th>bett</th>\n",
       "      <th>hop</th>\n",
       "      <th>got</th>\n",
       "      <th>lik</th>\n",
       "      <th>...</th>\n",
       "      <th>good</th>\n",
       "      <th>cold</th>\n",
       "      <th>work</th>\n",
       "      <th>today</th>\n",
       "      <th>back</th>\n",
       "      <th>well</th>\n",
       "      <th>cough</th>\n",
       "      <th>bad</th>\n",
       "      <th>RESULT</th>\n",
       "      <th>ID</th>\n",
       "    </tr>\n",
       "  </thead>\n",
       "  <tbody>\n",
       "    <tr>\n",
       "      <th>0</th>\n",
       "      <td>0</td>\n",
       "      <td>1</td>\n",
       "      <td>1</td>\n",
       "      <td>1</td>\n",
       "      <td>0</td>\n",
       "      <td>0</td>\n",
       "      <td>0</td>\n",
       "      <td>0</td>\n",
       "      <td>0</td>\n",
       "      <td>0</td>\n",
       "      <td>...</td>\n",
       "      <td>0</td>\n",
       "      <td>0</td>\n",
       "      <td>0</td>\n",
       "      <td>0</td>\n",
       "      <td>0</td>\n",
       "      <td>0</td>\n",
       "      <td>0</td>\n",
       "      <td>0</td>\n",
       "      <td>0</td>\n",
       "      <td>6004550306</td>\n",
       "    </tr>\n",
       "    <tr>\n",
       "      <th>1</th>\n",
       "      <td>1</td>\n",
       "      <td>1</td>\n",
       "      <td>1</td>\n",
       "      <td>0</td>\n",
       "      <td>0</td>\n",
       "      <td>0</td>\n",
       "      <td>0</td>\n",
       "      <td>0</td>\n",
       "      <td>0</td>\n",
       "      <td>0</td>\n",
       "      <td>...</td>\n",
       "      <td>0</td>\n",
       "      <td>0</td>\n",
       "      <td>0</td>\n",
       "      <td>0</td>\n",
       "      <td>0</td>\n",
       "      <td>0</td>\n",
       "      <td>0</td>\n",
       "      <td>0</td>\n",
       "      <td>0</td>\n",
       "      <td>6003455112</td>\n",
       "    </tr>\n",
       "    <tr>\n",
       "      <th>2</th>\n",
       "      <td>2</td>\n",
       "      <td>1</td>\n",
       "      <td>0</td>\n",
       "      <td>0</td>\n",
       "      <td>0</td>\n",
       "      <td>0</td>\n",
       "      <td>0</td>\n",
       "      <td>0</td>\n",
       "      <td>1</td>\n",
       "      <td>0</td>\n",
       "      <td>...</td>\n",
       "      <td>0</td>\n",
       "      <td>0</td>\n",
       "      <td>0</td>\n",
       "      <td>0</td>\n",
       "      <td>0</td>\n",
       "      <td>0</td>\n",
       "      <td>0</td>\n",
       "      <td>0</td>\n",
       "      <td>0</td>\n",
       "      <td>6002109706</td>\n",
       "    </tr>\n",
       "    <tr>\n",
       "      <th>3</th>\n",
       "      <td>3</td>\n",
       "      <td>1</td>\n",
       "      <td>1</td>\n",
       "      <td>0</td>\n",
       "      <td>0</td>\n",
       "      <td>0</td>\n",
       "      <td>0</td>\n",
       "      <td>0</td>\n",
       "      <td>0</td>\n",
       "      <td>0</td>\n",
       "      <td>...</td>\n",
       "      <td>0</td>\n",
       "      <td>0</td>\n",
       "      <td>0</td>\n",
       "      <td>0</td>\n",
       "      <td>0</td>\n",
       "      <td>0</td>\n",
       "      <td>0</td>\n",
       "      <td>0</td>\n",
       "      <td>1</td>\n",
       "      <td>5999019609</td>\n",
       "    </tr>\n",
       "    <tr>\n",
       "      <th>4</th>\n",
       "      <td>4</td>\n",
       "      <td>1</td>\n",
       "      <td>1</td>\n",
       "      <td>0</td>\n",
       "      <td>1</td>\n",
       "      <td>0</td>\n",
       "      <td>0</td>\n",
       "      <td>0</td>\n",
       "      <td>0</td>\n",
       "      <td>0</td>\n",
       "      <td>...</td>\n",
       "      <td>0</td>\n",
       "      <td>1</td>\n",
       "      <td>0</td>\n",
       "      <td>0</td>\n",
       "      <td>0</td>\n",
       "      <td>0</td>\n",
       "      <td>0</td>\n",
       "      <td>0</td>\n",
       "      <td>0</td>\n",
       "      <td>5990850113</td>\n",
       "    </tr>\n",
       "  </tbody>\n",
       "</table>\n",
       "<p>5 rows × 28 columns</p>\n",
       "</div>"
      ],
      "text/plain": [
       "   index  flu  gett  think  sick  feel  bett  hop  got  lik     ...      good  \\\n",
       "0      0    1     1      1     0     0     0    0    0    0     ...         0   \n",
       "1      1    1     1      0     0     0     0    0    0    0     ...         0   \n",
       "2      2    1     0      0     0     0     0    0    1    0     ...         0   \n",
       "3      3    1     1      0     0     0     0    0    0    0     ...         0   \n",
       "4      4    1     1      0     1     0     0    0    0    0     ...         0   \n",
       "\n",
       "   cold  work  today  back  well  cough  bad  RESULT          ID  \n",
       "0     0     0      0     0     0      0    0       0  6004550306  \n",
       "1     0     0      0     0     0      0    0       0  6003455112  \n",
       "2     0     0      0     0     0      0    0       0  6002109706  \n",
       "3     0     0      0     0     0      0    0       1  5999019609  \n",
       "4     1     0      0     0     0      0    0       0  5990850113  \n",
       "\n",
       "[5 rows x 28 columns]"
      ]
     },
     "execution_count": 55,
     "metadata": {},
     "output_type": "execute_result"
    }
   ],
   "source": [
    "infection.head()"
   ]
  },
  {
   "cell_type": "code",
   "execution_count": 56,
   "metadata": {
    "collapsed": false
   },
   "outputs": [],
   "source": [
    "def logistic_regression(params, data):\n",
    "    y, X = dmatrices(params, data, return_type='dataframe')\n",
    "    # flatten y into a 1-D array\n",
    "    y = np.ravel(y)\n",
    "    # instantiate a logistic regression model, and fit with X and y\n",
    "    model = LogisticRegression()\n",
    "    model = model.fit(X,y)\n",
    "\n",
    "    # check the accuracy on the training set\n",
    "    model.score(X, y)\n"
   ]
  },
  {
   "cell_type": "code",
   "execution_count": 57,
   "metadata": {
    "collapsed": false
   },
   "outputs": [],
   "source": [
    "related_params = \"RESULT ~ flu + gett + shot + think + sick + get + worried + feel + go + h1n1 + lik + got + scared + hop + bett + worry + fear + vaccin + today + one + still + need + cold + really + hom\"\n",
    "infection_params = \"RESULT ~ flu + gett + think + sick + feel + bett + hop + got + lik + go + im + get + worried + day + week + still + hom + good + cold + work + today + back + well + cough + bad\"\n",
    "self_params = \"RESULT ~ flu + gett + shot + think + sick + feel + get + got + go + lik + im + bett + hop + worried + today + still + day + scared + week + vaccin + good + cold + worry + work + back\""
   ]
  },
  {
   "cell_type": "markdown",
   "metadata": {},
   "source": [
    "## Related"
   ]
  },
  {
   "cell_type": "code",
   "execution_count": 58,
   "metadata": {
    "collapsed": false
   },
   "outputs": [
    {
     "data": {
      "text/plain": [
       "0.68929450369155043"
      ]
     },
     "execution_count": 58,
     "metadata": {},
     "output_type": "execute_result"
    }
   ],
   "source": [
    "y, X = dmatrices(related_params, related, return_type='dataframe')\n",
    "# flatten y into a 1-D array\n",
    "y = np.ravel(y)\n",
    "# instantiate a logistic regression model, and fit with X and y\n",
    "model = LogisticRegression()\n",
    "model = model.fit(X,y)\n",
    "# check the accuracy on the training set\n",
    "model.score(X, y)"
   ]
  },
  {
   "cell_type": "markdown",
   "metadata": {},
   "source": [
    "## Infection"
   ]
  },
  {
   "cell_type": "code",
   "execution_count": 59,
   "metadata": {
    "collapsed": false
   },
   "outputs": [
    {
     "data": {
      "text/plain": [
       "0.56774642981539536"
      ]
     },
     "execution_count": 59,
     "metadata": {},
     "output_type": "execute_result"
    }
   ],
   "source": [
    "y2, X2 = dmatrices(infection_params, infection, return_type='dataframe')\n",
    "# flatten y into a 1-D array\n",
    "y2 = np.ravel(y2)\n",
    "# instantiate a logistic regression model, and fit with X and y\n",
    "model2 = LogisticRegression()\n",
    "model2 = model2.fit(X2,y2)\n",
    "# check the accuracy on the training set\n",
    "model2.score(X2, y2)"
   ]
  },
  {
   "cell_type": "markdown",
   "metadata": {},
   "source": [
    "## Self"
   ]
  },
  {
   "cell_type": "code",
   "execution_count": 60,
   "metadata": {
    "collapsed": false
   },
   "outputs": [
    {
     "data": {
      "text/plain": [
       "0.51110104213864971"
      ]
     },
     "execution_count": 60,
     "metadata": {},
     "output_type": "execute_result"
    }
   ],
   "source": [
    "y3, X3 = dmatrices(self_params, self, return_type='dataframe')\n",
    "# flatten y into a 1-D array\n",
    "y3 = np.ravel(y3)\n",
    "# instantiate a logistic regression model, and fit with X and y\n",
    "model3 = LogisticRegression()\n",
    "model3 = model3.fit(X3,y3)\n",
    "# check the accuracy on the training set\n",
    "model2.score(X3, y3)"
   ]
  },
  {
   "cell_type": "markdown",
   "metadata": {},
   "source": [
    "## (Related)Model Evaluation Using a Validation Set"
   ]
  },
  {
   "cell_type": "code",
   "execution_count": 61,
   "metadata": {
    "collapsed": false
   },
   "outputs": [
    {
     "data": {
      "text/plain": [
       "LogisticRegression(C=1.0, class_weight=None, dual=False, fit_intercept=True,\n",
       "          intercept_scaling=1, max_iter=100, multi_class='ovr', n_jobs=1,\n",
       "          penalty='l2', random_state=None, solver='liblinear', tol=0.0001,\n",
       "          verbose=0, warm_start=False)"
      ]
     },
     "execution_count": 61,
     "metadata": {},
     "output_type": "execute_result"
    }
   ],
   "source": [
    "X_train, X_test, y_train, y_test = train_test_split(X, y, test_size=0.3, random_state=0)\n",
    "model_test = LogisticRegression()\n",
    "model_test.fit(X_train, y_train)"
   ]
  },
  {
   "cell_type": "markdown",
   "metadata": {},
   "source": [
    "We now need to predict class labels for the test set. We will also generate the class probabilities, just to take a look."
   ]
  },
  {
   "cell_type": "code",
   "execution_count": 62,
   "metadata": {
    "collapsed": false
   },
   "outputs": [
    {
     "name": "stdout",
     "output_type": "stream",
     "text": [
      "[ 0.  0.  1. ...,  0.  1.  0.]\n"
     ]
    }
   ],
   "source": [
    "# predict class labels for the test set\n",
    "predicted = model_test.predict(X_test)\n",
    "print predicted"
   ]
  },
  {
   "cell_type": "code",
   "execution_count": 63,
   "metadata": {
    "collapsed": false
   },
   "outputs": [
    {
     "name": "stdout",
     "output_type": "stream",
     "text": [
      "[[ 0.58405944  0.41594056]\n",
      " [ 0.58405944  0.41594056]\n",
      " [ 0.11408488  0.88591512]\n",
      " ..., \n",
      " [ 0.53728873  0.46271127]\n",
      " [ 0.1600838   0.8399162 ]\n",
      " [ 0.681325    0.318675  ]]\n"
     ]
    }
   ],
   "source": [
    "# generate class probabilities\n",
    "probs = model_test.predict_proba(X_test)\n",
    "print probs"
   ]
  },
  {
   "cell_type": "markdown",
   "metadata": {},
   "source": [
    "As can be seen, the classifier is predicting a 1 any time the probability in the second column is greater than 0.5.\n",
    "\n",
    "Now let's generate some evaluation metrics."
   ]
  },
  {
   "cell_type": "code",
   "execution_count": 69,
   "metadata": {
    "collapsed": false
   },
   "outputs": [
    {
     "name": "stdout",
     "output_type": "stream",
     "text": [
      "------------------ RELATED -------------------------------\n",
      "0.682843472317\n",
      "0.736045699838\n"
     ]
    }
   ],
   "source": [
    "# generate evaluation metrics\n",
    "print '------------------ RELATED -------------------------------'\n",
    "print metrics.accuracy_score(y_test, predicted)\n",
    "print metrics.roc_auc_score(y_test, probs[:, 1])"
   ]
  },
  {
   "cell_type": "markdown",
   "metadata": {},
   "source": [
    "The accuracy is 68%, which is the same as I experienced when training and predicting on the same data.\n",
    "We can also see the confusion matrix and a classification report with other metrics"
   ]
  },
  {
   "cell_type": "code",
   "execution_count": 65,
   "metadata": {
    "collapsed": false
   },
   "outputs": [
    {
     "name": "stdout",
     "output_type": "stream",
     "text": [
      "[[483 177]\n",
      " [287 516]]\n",
      "             precision    recall  f1-score   support\n",
      "\n",
      "        0.0       0.63      0.73      0.68       660\n",
      "        1.0       0.74      0.64      0.69       803\n",
      "\n",
      "avg / total       0.69      0.68      0.68      1463\n",
      "\n"
     ]
    }
   ],
   "source": [
    "print metrics.confusion_matrix(y_test, predicted)\n",
    "print metrics.classification_report(y_test, predicted)"
   ]
  },
  {
   "cell_type": "markdown",
   "metadata": {},
   "source": [
    "## Model Evaluation Using Cross-Validation"
   ]
  },
  {
   "cell_type": "markdown",
   "metadata": {},
   "source": [
    "Now let's try 10-fold cross-validation, to see if the accuracy holds up more rigorously."
   ]
  },
  {
   "cell_type": "code",
   "execution_count": 68,
   "metadata": {
    "collapsed": false
   },
   "outputs": [
    {
     "name": "stdout",
     "output_type": "stream",
     "text": [
      "[ 0.68711656  0.6809816   0.63729508  0.64959016  0.7063655   0.67145791\n",
      "  0.75154004  0.69199179  0.69815195  0.70431211]\n",
      "0.687880270726\n"
     ]
    }
   ],
   "source": [
    "# Evaluate the model using 10-fold cross-validation\n",
    "scores = cross_val_score(LogisticRegression(), X, y, scoring='accuracy', cv=10)\n",
    "print scores\n",
    "print scores.mean()"
   ]
  },
  {
   "cell_type": "markdown",
   "metadata": {},
   "source": [
    "It's still performing at 68% accuracy'"
   ]
  },
  {
   "cell_type": "markdown",
   "metadata": {},
   "source": [
    "## Predicting the Probability that a tweet is related to influenza"
   ]
  },
  {
   "cell_type": "code",
   "execution_count": 70,
   "metadata": {
    "collapsed": false
   },
   "outputs": [],
   "source": [
    "#X = np.array([1,3,0,1,0,0,0,0,0,1,1])\n",
    "#X.reshape(-1, 1)\n",
    "#model.predict_proba(X)"
   ]
  },
  {
   "cell_type": "markdown",
   "metadata": {
    "collapsed": true
   },
   "source": [
    "## (Infection)Model Evaluation Using a Validation Set"
   ]
  },
  {
   "cell_type": "code",
   "execution_count": 78,
   "metadata": {
    "collapsed": false
   },
   "outputs": [
    {
     "name": "stdout",
     "output_type": "stream",
     "text": [
      "------------------ RELATED -------------------------------\n",
      "Accuracy Score:\n",
      "0.452436194896\n",
      "roc score:\n",
      "0.45183992138\n",
      "[[118 364]\n",
      " [108 272]]\n",
      "             precision    recall  f1-score   support\n",
      "\n",
      "        0.0       0.52      0.24      0.33       482\n",
      "        1.0       0.43      0.72      0.54       380\n",
      "\n",
      "avg / total       0.48      0.45      0.42       862\n",
      "\n",
      "[ 0.55555556  0.48780488  0.57491289  0.58536585  0.57491289  0.57142857\n",
      "  0.55749129  0.52264808  0.50174216  0.53658537]\n",
      "0.546844754162\n"
     ]
    }
   ],
   "source": [
    "X_train2, X_test2, y_train2, y_test2 = train_test_split(X2, y2, test_size=0.3, random_state=0)\n",
    "model_test2 = LogisticRegression()\n",
    "model_test2.fit(X_train2, y_train2)\n",
    "# predict class labels for the test set\n",
    "predicted2 = model_test.predict(X_test2)\n",
    "# generate class probabilities\n",
    "probs = model_test.predict_proba(X_test2)\n",
    "# generate evaluation metrics\n",
    "print '------------------ RELATED -------------------------------'\n",
    "print 'Accuracy Score:'\n",
    "print metrics.accuracy_score(y_test2, predicted2)\n",
    "print 'roc score:'\n",
    "print metrics.roc_auc_score(y_test2, probs[:, 1])\n",
    "print metrics.confusion_matrix(y_test2, predicted2)\n",
    "print metrics.classification_report(y_test2, predicted2)\n",
    "# Evaluate the model using 10-fold cross-validation\n",
    "scores2 = cross_val_score(LogisticRegression(), X2, y2, scoring='accuracy', cv=10)\n",
    "print scores2\n",
    "print scores2.mean()"
   ]
  },
  {
   "cell_type": "code",
   "execution_count": null,
   "metadata": {
    "collapsed": true
   },
   "outputs": [],
   "source": [
    "(Self)Model Evaluation Using a Validation Set"
   ]
  },
  {
   "cell_type": "code",
   "execution_count": null,
   "metadata": {
    "collapsed": true
   },
   "outputs": [],
   "source": []
  }
 ],
 "metadata": {
  "kernelspec": {
   "display_name": "Python 2",
   "language": "python",
   "name": "python2"
  },
  "language_info": {
   "codemirror_mode": {
    "name": "ipython",
    "version": 2
   },
   "file_extension": ".py",
   "mimetype": "text/x-python",
   "name": "python",
   "nbconvert_exporter": "python",
   "pygments_lexer": "ipython2",
   "version": "2.7.10"
  }
 },
 "nbformat": 4,
 "nbformat_minor": 1
}
